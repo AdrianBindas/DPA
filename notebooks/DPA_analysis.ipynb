{
 "cells": [
  {
   "cell_type": "markdown",
   "metadata": {},
   "source": [
    "# The Density Peak Advanced clustering algorithm\n",
    "\n",
    "----------------\n",
    "Load the package:"
   ]
  },
  {
   "cell_type": "code",
   "execution_count": 2,
   "metadata": {
    "scrolled": true
   },
   "outputs": [],
   "source": [
    "import io\n",
    "import sys\n",
    "import pandas as pd\n",
    "import numpy as np\n",
    "\n",
    "sys.path.append('../../')\n",
    "from DPApipeline.DPA import PAk, twoNN, DPA\n",
    "\n",
    "%load_ext autoreload\n",
    "%autoreload 2"
   ]
  },
  {
   "cell_type": "markdown",
   "metadata": {},
   "source": [
    "Read input csv file:"
   ]
  },
  {
   "cell_type": "code",
   "execution_count": 3,
   "metadata": {},
   "outputs": [],
   "source": [
    "data_F1 = pd.read_csv(\"../DPA/tests/benchmarks/Fig1.dat\", sep=\" \", header=None)"
   ]
  },
  {
   "cell_type": "markdown",
   "metadata": {},
   "source": [
    "How to run Density Peak Advanced clustering:\n",
    "\n",
    "    The default pipeline makes use of the PAk density estimator and of the TWO-NN intristic dimension estimator.\n",
    "    The densities and the corresponding errors can also be provided as precomputed arrays.\n",
    "\n",
    "    Parameters\n",
    "    ----------\n",
    "\n",
    "    Z : float, default = 1\n",
    "        The number of standard deviations, which fixes the level of statistical confidence at which\n",
    "        one decides to consider a cluster meaningful.\n",
    "\n",
    "    metric : string, or callable\n",
    "        The distance metric to use.\n",
    "        If metric is a string, it must be one of the options allowed by\n",
    "        scipy.spatial.distance.pdist for its metric parameter, or a metric listed in\n",
    "        pairwise.PAIRWISE_DISTANCE_FUNCTIONS. If metric is \"precomputed\", X is assumed to\n",
    "        be a distance matrix. Alternatively, if metric is a callable function, it is\n",
    "        called on each pair of instances (rows) and the resulting value recorded. The\n",
    "        callable should take two arrays from X as input and return a value indicating\n",
    "        the distance between them. Default is 'euclidean'.\n",
    "        \n",
    "    densities : array [n_samples], default = None\n",
    "        The logarithm of the density at each point. If provided, the following parameters are ignored:\n",
    "        density_algo, k_max, D_thr.\n",
    "\n",
    "    err_densities : array [n_samples], default = None\n",
    "        The uncertainty in the density estimation, obtained by computing\n",
    "        the inverse of the Fisher information matrix.\n",
    "    \n",
    "    k_hat : array [n_samples], default = None\n",
    "        The optimal number of neighbors for which the condition of constant density holds.\n",
    "        \n",
    "    n_jobs : int or None, optional (default=None)\n",
    "        The number of jobs to use for the computation. This works by computing\n",
    "        each of the n_init runs in parallel.\n",
    "        ``None`` means 1 unless in a :obj:`joblib.parallel_backend` context.\n",
    "        ``-1`` means using all processors. See :term:`Glossary <n_jobs>`\n",
    "        for more details.\n",
    "\n",
    "    Parameters specific of the PAk estimator:\n",
    "    -----------------------------------------\n",
    "\n",
    "    density_algo : string, default = \"PAk\"\n",
    "        Define the algorithm to use as density estimator. It mast be one of the options allowed by\n",
    "        VALID_DENSITY.\n",
    "\n",
    "    k_max : int, default=1000\n",
    "        This parameter is considered if density_algo is \"PAk\" or \"kNN\", it is ignored otherwise.\n",
    "        k_max set the maximum number of nearest-neighbors considered by the density estimator.\n",
    "        If density_algo=\"PAk\", k_max is used by the algorithm in the search for the\n",
    "        largest number of neighbors ``\\hat{k}`` for which the condition of constant density\n",
    "        holds, within a given level of confidence.\n",
    "        If density_algo=\"kNN\", k_max set the number of neighbors to be used by the standard\n",
    "        k-Nearest Neighbor algorithm.\n",
    "        If the number of points in the sample N is\n",
    "        less than the default value, k_max will be set automatically to the value ``N/2``, if .\n",
    "        \n",
    "    D_thr : float, default=23.92812698\n",
    "        This parameter is considered if density_algo is \"PAk\", it is ignored otherwise.\n",
    "        Set the level of confidence in the PAk density estimator. The default value corresponds to a p-value of\n",
    "        ``10**{-6}`` for a ``\\chiˆ2`` distribution with one degree of freedom.\n",
    "\n",
    "    dim : int, default = None\n",
    "        Intrinsic dimensionality of the sample. If dim is provided, the following parameters are ignored:\n",
    "        dim_algo, blockAn, block_ratio, frac.\n",
    "\n",
    "    dim_algo : string, or callable, default=\"twoNN\"\n",
    "        Method for intrinsic dimensionality calculation. If dim_algo is \"auto\", dim is assumed to be\n",
    "        equal to n_samples. If dim_algo is a string, it must be one of the options allowed by VALID_DIM.\n",
    "\n",
    "    Parameters specific of the TWO-NN estimator:\n",
    "    --------------------------------------------\n",
    "\n",
    "    blockAn : bool, default=True\n",
    "        This parameter is considered if dim_algo is \"twoNN\", it is ignored otherwise.\n",
    "        If blockAn is True the algorithm perform a block analysis that allows discriminating the relevant \n",
    "        dimensions as a function of the block size. This allows to study the stability of the estimation \n",
    "        with respect to changes in the neighborhood size, which is crucial for ID estimations when the \n",
    "        data lie on a manifold perturbed by a high-dimensional noise.\n",
    "\n",
    "    block_ratio : int, default=20\n",
    "        This parameter is considered if dim_algo is \"twoNN\", it is ignored otherwise.\n",
    "        Set the minimum size of the blocks as n_samples/block_ratio. If blockAn=False, block_ratio is ignored.\n",
    "        \n",
    "    frac : float, default=1\n",
    "        This parameter is considered if dim_algo is \"twoNN\", it is ignored otherwise.\n",
    "        Define the fraction of points in the data set used for ID calculation. By default the full \n",
    "        data set is used.\n",
    "\n",
    "\n",
    "\n",
    "    Attributes\n",
    "    ----------\n",
    "    labels_ : array [Nclus]\n",
    "        The clustering labels assigned to each point in the data set.\n",
    "\n",
    "    topography_ : array [Nclus, Nclus]\n",
    "        Let be Nclus the number of clusters, the topography consists in a Nclus × Nclus symmetric matrix,\n",
    "        in which the diagonal entries are the heights of the peaks and the off-diagonal entries are the\n",
    "        heights of the saddle points.\n",
    "\n",
    "    distances_ : array [n_samples, k_max+1]\n",
    "        Distances to the k_max neighbors of each points. The point itself is included in the array.\n",
    "\n",
    "    indices_ : array [n_samples, k_max+1]\n",
    "        Indices of the k_max neighbors of each points. The point itself is included in the array.\n",
    "\n",
    "    k_hat_ : array [n_samples], default = None\n",
    "        The optimal number of neighbors for which the condition of constant density holds.\n",
    "\n",
    "    centers_ :array [Nclus]\n",
    "        The clustering labels assigned to each point in the data set."
   ]
  },
  {
   "cell_type": "code",
   "execution_count": 4,
   "metadata": {},
   "outputs": [],
   "source": [
    "est = DPA.DensityPeakAdvanced(Z=1.5)"
   ]
  },
  {
   "cell_type": "code",
   "execution_count": null,
   "metadata": {},
   "outputs": [],
   "source": [
    "est.fit(data_F1)"
   ]
  },
  {
   "cell_type": "code",
   "execution_count": null,
   "metadata": {},
   "outputs": [],
   "source": [
    "est.topography_"
   ]
  },
  {
   "cell_type": "markdown",
   "metadata": {},
   "source": [
    "The PAk and twoNN estimator can be used indipendently from the DPA clustering method."
   ]
  },
  {
   "cell_type": "code",
   "execution_count": 5,
   "metadata": {},
   "outputs": [],
   "source": [
    "rho_est = PAk.PointAdaptive_kNN()\n",
    "d_est = twoNN.twoNearestNeighbors()"
   ]
  },
  {
   "cell_type": "code",
   "execution_count": 6,
   "metadata": {},
   "outputs": [
    {
     "name": "stdout",
     "output_type": "stream",
     "text": [
      "[8.951118219205181, 4.437268289686326, 3.4299282849553783, 6.871420680485775, 7.11485462391007, 9.57656137123776, 9.470094550357937, 7.31040958472572, 9.413436563943083, 7.677202641203396]\n",
      "2\n"
     ]
    },
    {
     "name": "stderr",
     "output_type": "stream",
     "text": [
      "../../DPApipeline/DPA/twoNN.py:59: FutureWarning: `rcond` parameter will change to the default of machine precision times ``max(M, N)`` where M and N are the input matrix dimensions.\n",
      "To use the future default and silence this warning we advise to pass `rcond=None`, to keep using the old, explicitly pass `rcond=-1`.\n",
      "  a, _, _, _ = np.linalg.lstsq(np.array(x)[:,np.newaxis], np.array(y))\n"
     ]
    }
   ],
   "source": [
    "results = rho_est.fit(data_F1)\n",
    "print(results.densities_[:10])\n",
    "\n",
    "dim = d_est.fit(data_F1).dim_\n",
    "print(dim)"
   ]
  },
  {
   "cell_type": "code",
   "execution_count": null,
   "metadata": {},
   "outputs": [],
   "source": []
  }
 ],
 "metadata": {
  "kernelspec": {
   "display_name": "Python 3",
   "language": "python",
   "name": "python3"
  },
  "language_info": {
   "codemirror_mode": {
    "name": "ipython",
    "version": 3
   },
   "file_extension": ".py",
   "mimetype": "text/x-python",
   "name": "python",
   "nbconvert_exporter": "python",
   "pygments_lexer": "ipython3",
   "version": "3.7.3"
  }
 },
 "nbformat": 4,
 "nbformat_minor": 2
}
