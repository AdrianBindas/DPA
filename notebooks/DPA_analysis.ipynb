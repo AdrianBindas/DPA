{
 "cells": [
  {
   "cell_type": "markdown",
   "metadata": {},
   "source": [
    "# The Density Peak Advanced clustering algorithm\n",
    "\n",
    "----------------\n",
    "Load the package:"
   ]
  },
  {
   "cell_type": "code",
   "execution_count": 9,
   "metadata": {
    "scrolled": true
   },
   "outputs": [
    {
     "name": "stdout",
     "output_type": "stream",
     "text": [
      "The autoreload extension is already loaded. To reload it, use:\n",
      "  %reload_ext autoreload\n"
     ]
    }
   ],
   "source": [
    "import io\n",
    "import sys\n",
    "import pandas as pd\n",
    "import numpy as np\n",
    "\n",
    "sys.path.append('../../')\n",
    "from DPApipeline.DPA import PAk, twoNN, DPA\n",
    "\n",
    "%load_ext autoreload\n",
    "%autoreload 2"
   ]
  },
  {
   "cell_type": "markdown",
   "metadata": {},
   "source": [
    "Read input csv file:"
   ]
  },
  {
   "cell_type": "code",
   "execution_count": 10,
   "metadata": {},
   "outputs": [],
   "source": [
    "data_F1 = pd.read_csv(\"../DPA/tests/benchmarks/Fig1.dat\", sep=\" \", header=None)"
   ]
  },
  {
   "cell_type": "markdown",
   "metadata": {},
   "source": [
    "How to run Density Peak Advanced clustering:\n",
    "\n",
    "    The default pipeline makes use of the PAk density estimator and of the TWO-NN intristic dimension estimator.\n",
    "    The densities and the corresponding errors can also be provided as precomputed arrays.\n",
    "\n",
    "    Parameters\n",
    "    ----------\n",
    "\n",
    "    Z : float, default = 1\n",
    "        The number of standard deviations, which fixes the level of statistical confidence at which\n",
    "        one decides to consider a cluster meaningful.\n",
    "\n",
    "    metric : string, or callable\n",
    "        The distance metric to use.\n",
    "        If metric is a string, it must be one of the options allowed by\n",
    "        scipy.spatial.distance.pdist for its metric parameter, or a metric listed in\n",
    "        pairwise.PAIRWISE_DISTANCE_FUNCTIONS. If metric is \"precomputed\", X is assumed to\n",
    "        be a distance matrix. Alternatively, if metric is a callable function, it is\n",
    "        called on each pair of instances (rows) and the resulting value recorded. The\n",
    "        callable should take two arrays from X as input and return a value indicating\n",
    "        the distance between them. Default is 'euclidean'.\n",
    "        \n",
    "    densities : array [n_samples], default = None\n",
    "        The logarithm of the density at each point. If provided, the following parameters are ignored:\n",
    "        density_algo, k_max, D_thr.\n",
    "\n",
    "    err_densities : array [n_samples], default = None\n",
    "        The uncertainty in the density estimation, obtained by computing\n",
    "        the inverse of the Fisher information matrix.\n",
    "    \n",
    "    k_hat : array [n_samples], default = None\n",
    "        The optimal number of neighbors for which the condition of constant density holds.\n",
    "        \n",
    "    n_jobs : int or None, optional (default=None)\n",
    "        The number of jobs to use for the computation. This works by computing\n",
    "        each of the n_init runs in parallel.\n",
    "        ``None`` means 1 unless in a :obj:`joblib.parallel_backend` context.\n",
    "        ``-1`` means using all processors. See :term:`Glossary <n_jobs>`\n",
    "        for more details.\n",
    "\n",
    "    Parameters specific of the PAk estimator:\n",
    "    -----------------------------------------\n",
    "\n",
    "    density_algo : string, default = \"PAk\"\n",
    "        Define the algorithm to use as density estimator. It mast be one of the options allowed by\n",
    "        VALID_DENSITY.\n",
    "\n",
    "    k_max : int, default=1000\n",
    "        This parameter is considered if density_algo is \"PAk\" or \"kNN\", it is ignored otherwise.\n",
    "        k_max set the maximum number of nearest-neighbors considered by the density estimator.\n",
    "        If density_algo=\"PAk\", k_max is used by the algorithm in the search for the\n",
    "        largest number of neighbors ``\\hat{k}`` for which the condition of constant density\n",
    "        holds, within a given level of confidence.\n",
    "        If density_algo=\"kNN\", k_max set the number of neighbors to be used by the standard\n",
    "        k-Nearest Neighbor algorithm.\n",
    "        If the number of points in the sample N is\n",
    "        less than the default value, k_max will be set automatically to the value ``N/2``, if .\n",
    "        \n",
    "    D_thr : float, default=23.92812698\n",
    "        This parameter is considered if density_algo is \"PAk\", it is ignored otherwise.\n",
    "        Set the level of confidence in the PAk density estimator. The default value corresponds to a p-value of\n",
    "        ``10**{-6}`` for a ``\\chiˆ2`` distribution with one degree of freedom.\n",
    "\n",
    "    dim : int, default = None\n",
    "        Intrinsic dimensionality of the sample. If dim is provided, the following parameters are ignored:\n",
    "        dim_algo, blockAn, block_ratio, frac.\n",
    "\n",
    "    dim_algo : string, or callable, default=\"twoNN\"\n",
    "        Method for intrinsic dimensionality calculation. If dim_algo is \"auto\", dim is assumed to be\n",
    "        equal to n_samples. If dim_algo is a string, it must be one of the options allowed by VALID_DIM.\n",
    "\n",
    "    Parameters specific of the TWO-NN estimator:\n",
    "    --------------------------------------------\n",
    "\n",
    "    blockAn : bool, default=True\n",
    "        This parameter is considered if dim_algo is \"twoNN\", it is ignored otherwise.\n",
    "        If blockAn is True the algorithm perform a block analysis that allows discriminating the relevant \n",
    "        dimensions as a function of the block size. This allows to study the stability of the estimation \n",
    "        with respect to changes in the neighborhood size, which is crucial for ID estimations when the \n",
    "        data lie on a manifold perturbed by a high-dimensional noise.\n",
    "\n",
    "    block_ratio : int, default=20\n",
    "        This parameter is considered if dim_algo is \"twoNN\", it is ignored otherwise.\n",
    "        Set the minimum size of the blocks as n_samples/block_ratio. If blockAn=False, block_ratio is ignored.\n",
    "        \n",
    "    frac : float, default=1\n",
    "        This parameter is considered if dim_algo is \"twoNN\", it is ignored otherwise.\n",
    "        Define the fraction of points in the data set used for ID calculation. By default the full \n",
    "        data set is used.\n",
    "\n",
    "\n",
    "\n",
    "    Attributes\n",
    "    ----------\n",
    "    labels_ : array [Nclus]\n",
    "        The clustering labels assigned to each point in the data set.\n",
    "\n",
    "    topography_ : array [Nclus, Nclus]\n",
    "        Let be Nclus the number of clusters, the topography consists in a Nclus × Nclus symmetric matrix,\n",
    "        in which the diagonal entries are the heights of the peaks and the off-diagonal entries are the\n",
    "        heights of the saddle points.\n",
    "\n",
    "    distances_ : array [n_samples, k_max+1]\n",
    "        Distances to the k_max neighbors of each points. The point itself is included in the array.\n",
    "\n",
    "    indices_ : array [n_samples, k_max+1]\n",
    "        Indices of the k_max neighbors of each points. The point itself is included in the array.\n",
    "\n",
    "    k_hat_ : array [n_samples], default = None\n",
    "        The optimal number of neighbors for which the condition of constant density holds.\n",
    "\n",
    "    centers_ :array [Nclus]\n",
    "        The clustering labels assigned to each point in the data set."
   ]
  },
  {
   "cell_type": "code",
   "execution_count": 11,
   "metadata": {},
   "outputs": [],
   "source": [
    "est = DPA.DensityPeakAdvanced(Z=1.5)"
   ]
  },
  {
   "cell_type": "code",
   "execution_count": 12,
   "metadata": {},
   "outputs": [
    {
     "name": "stderr",
     "output_type": "stream",
     "text": [
      "../../DPApipeline/DPA/twoNN.py:59: FutureWarning: `rcond` parameter will change to the default of machine precision times ``max(M, N)`` where M and N are the input matrix dimensions.\n",
      "To use the future default and silence this warning we advise to pass `rcond=None`, to keep using the old, explicitly pass `rcond=-1`.\n",
      "  a, _, _, _ = np.linalg.lstsq(np.array(x)[:,np.newaxis], np.array(y))\n"
     ]
    },
    {
     "data": {
      "text/plain": [
       "DensityPeakAdvanced(D_thr=23.92812698, Z=1.5, blockAn=True, block_ratio=20,\n",
       "                    densities=[8.951118219205181, 4.437268289686326,\n",
       "                               3.4299282849553783, 6.871420680485775,\n",
       "                               7.11485462391007, 9.57656137123776,\n",
       "                               9.470094550357937, 7.31040958472572,\n",
       "                               9.413436563943083, 7.677202641203396,\n",
       "                               9.529954317873974, 7.436337210296516,\n",
       "                               5.763625906717161, 9.71869601411903,\n",
       "                               9.520998710622525,...\n",
       "                                   0.1346859764710466, 0.14019867026796917,\n",
       "                                   0.14528504114305565, 0.24523554819823287,\n",
       "                                   0.12790510004512853, 0.07430370873870562,\n",
       "                                   0.10838521440452242, 0.1323072983192249,\n",
       "                                   0.16356945585107635, 0.12896434681821414, ...],\n",
       "                    frac=1,\n",
       "                    k_hat=[168, 49, 71, 59, 261, 284, 307, 351, 233, 284, 244,\n",
       "                           161, 90, 502, 298, 148, 46, 38, 271, 51, 222, 205,\n",
       "                           191, 68, 246, 726, 342, 230, 151, 242, ...],\n",
       "                    k_max=1000, metric='euclidean', n_jobs=None)"
      ]
     },
     "execution_count": 12,
     "metadata": {},
     "output_type": "execute_result"
    }
   ],
   "source": [
    "est.fit(data_F1)"
   ]
  },
  {
   "cell_type": "code",
   "execution_count": 13,
   "metadata": {},
   "outputs": [
    {
     "data": {
      "text/plain": [
       "[[0, 1, 0.0, 0.0],\n",
       " [0, 2, 6.602688718447325, 0.26604585934392433],\n",
       " [0, 3, 3.4737493893916898, 0.3507059343758202],\n",
       " [0, 4, 3.9686924952437796, 0.4917622040778217],\n",
       " [0, 5, 0.0, 0.0],\n",
       " [0, 6, 2.9788214773915116, 0.4917622040778217],\n",
       " [0, 7, 3.235695723880518, 0.3958473906635696],\n",
       " [0, 8, 0.0, 0.0],\n",
       " [0, 9, 6.6573450426236125, 0.2490073533144393],\n",
       " [0, 10, 0.0, 0.0],\n",
       " [0, 11, 0.0, 0.0],\n",
       " [1, 2, 0.0, 0.0],\n",
       " [1, 3, 3.2145070663288036, 0.3265159805584621],\n",
       " [1, 4, 0.0, 0.0],\n",
       " [1, 5, 2.144230212419588, 0.5244044240850758],\n",
       " [1, 6, 0.0, 0.0],\n",
       " [1, 7, 0.0, 0.0],\n",
       " [1, 8, 4.2608239777780845, 0.34543846209192886],\n",
       " [1, 9, 0.0, 0.0],\n",
       " [1, 10, 1.8657494127677032, 0.6831300510639732],\n",
       " [1, 11, 2.195471185443899, 0.40382783841251346],\n",
       " [2, 3, 0.0, 0.0],\n",
       " [2, 4, 2.414484309933649, 0.2550061995371002],\n",
       " [2, 5, 0.0, 0.0],\n",
       " [2, 6, 3.6031877275373536, 0.3142012345545232],\n",
       " [2, 7, 0.0, 0.0],\n",
       " [2, 8, 0.0, 0.0],\n",
       " [2, 9, 3.945230871669852, 0.4413674147523748],\n",
       " [2, 10, 0.0, 0.0],\n",
       " [2, 11, 0.0, 0.0],\n",
       " [3, 4, 3.390555132372276, 0.3620060594752168],\n",
       " [3, 5, 3.816350736307592, 0.2932454736247747],\n",
       " [3, 6, 0.0, 0.0],\n",
       " [3, 7, 3.235695723880518, 0.3958473906635696],\n",
       " [3, 8, 4.1864761767353365, 0.28713930346059685],\n",
       " [3, 9, 0.0, 0.0],\n",
       " [3, 10, 0.0, 0.0],\n",
       " [3, 11, 2.2204831779074126, 0.25095969642707416],\n",
       " [4, 5, 0.0, 0.0],\n",
       " [4, 6, 0.0, 0.0],\n",
       " [4, 7, 0.0, 0.0],\n",
       " [4, 8, 0.0, 0.0],\n",
       " [4, 9, 2.903152685553022, 0.5244044240850758],\n",
       " [4, 10, 0.0, 0.0],\n",
       " [4, 11, 0.0, 0.0],\n",
       " [5, 6, 0.0, 0.0],\n",
       " [5, 7, 2.432832219645781, 0.3181501409635425],\n",
       " [5, 8, 6.28782425947848, 0.21258764807687305],\n",
       " [5, 9, 0.0, 0.0],\n",
       " [5, 10, 2.144230212419588, 0.5244044240850758],\n",
       " [5, 11, 0.0, 0.0],\n",
       " [6, 7, 2.4387276436384355, 0.3103957392590403],\n",
       " [6, 8, 0.0, 0.0],\n",
       " [6, 9, 0.0, 0.0],\n",
       " [6, 10, 0.0, 0.0],\n",
       " [6, 11, 0.0, 0.0],\n",
       " [7, 8, 0.0, 0.0],\n",
       " [7, 9, 0.0, 0.0],\n",
       " [7, 10, 2.0753136604340328, 0.23650808243982008],\n",
       " [7, 11, 0.0, 0.0],\n",
       " [8, 9, 0.0, 0.0],\n",
       " [8, 10, 0.0, 0.0],\n",
       " [8, 11, 0.0, 0.0],\n",
       " [9, 10, 0.0, 0.0],\n",
       " [9, 11, 0.0, 0.0],\n",
       " [10, 11, 2.1900510757265113, 0.2550061995371002]]"
      ]
     },
     "execution_count": 13,
     "metadata": {},
     "output_type": "execute_result"
    }
   ],
   "source": [
    "est.topography_"
   ]
  },
  {
   "cell_type": "markdown",
   "metadata": {},
   "source": [
    "The PAk and twoNN estimator can be used indipendently from the DPA clustering method."
   ]
  },
  {
   "cell_type": "code",
   "execution_count": 14,
   "metadata": {},
   "outputs": [],
   "source": [
    "rho_est = PAk.PointAdaptive_kNN()\n",
    "d_est = twoNN.twoNearestNeighbors()"
   ]
  },
  {
   "cell_type": "code",
   "execution_count": 15,
   "metadata": {},
   "outputs": [
    {
     "name": "stdout",
     "output_type": "stream",
     "text": [
      "[8.951118219205181, 4.437268289686326, 3.4299282849553783, 6.871420680485775, 7.11485462391007, 9.57656137123776, 9.470094550357937, 7.31040958472572, 9.413436563943083, 7.677202641203396]\n",
      "2\n"
     ]
    },
    {
     "name": "stderr",
     "output_type": "stream",
     "text": [
      "../../DPApipeline/DPA/twoNN.py:59: FutureWarning: `rcond` parameter will change to the default of machine precision times ``max(M, N)`` where M and N are the input matrix dimensions.\n",
      "To use the future default and silence this warning we advise to pass `rcond=None`, to keep using the old, explicitly pass `rcond=-1`.\n",
      "  a, _, _, _ = np.linalg.lstsq(np.array(x)[:,np.newaxis], np.array(y))\n"
     ]
    }
   ],
   "source": [
    "results = rho_est.fit(data_F1)\n",
    "print(results.densities_[:10])\n",
    "\n",
    "dim = d_est.fit(data_F1).dim_\n",
    "print(dim)"
   ]
  }
 ],
 "metadata": {
  "kernelspec": {
   "display_name": "Python 3",
   "language": "python",
   "name": "python3"
  },
  "language_info": {
   "codemirror_mode": {
    "name": "ipython",
    "version": 3
   },
   "file_extension": ".py",
   "mimetype": "text/x-python",
   "name": "python",
   "nbconvert_exporter": "python",
   "pygments_lexer": "ipython3",
   "version": "3.7.3"
  }
 },
 "nbformat": 4,
 "nbformat_minor": 2
}
