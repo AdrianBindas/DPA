{
 "cells": [
  {
   "cell_type": "markdown",
   "metadata": {},
   "source": [
    "# The Density Peak Advanced clustering algorithm\n",
    "\n",
    "----------------\n",
    "Load the package:"
   ]
  },
  {
   "cell_type": "code",
   "execution_count": 1,
   "metadata": {},
   "outputs": [],
   "source": [
    "import io\n",
    "import sys\n",
    "import pandas as pd\n",
    "import numpy as np\n",
    "from Pipeline import DPA\n",
    "import time\n",
    "\n",
    "%load_ext autoreload\n",
    "%autoreload 2"
   ]
  },
  {
   "cell_type": "markdown",
   "metadata": {},
   "source": [
    "Read input csv file:"
   ]
  },
  {
   "cell_type": "code",
   "execution_count": 3,
   "metadata": {},
   "outputs": [],
   "source": [
    "data_F1 = pd.read_csv(\"src/Pipeline/tests/benchmarks/Fig1.dat\", sep=\" \", header=None)"
   ]
  },
  {
   "cell_type": "markdown",
   "metadata": {},
   "source": [
    "How to run Density Peak Advanced clustering:\n",
    "\n",
    "    The default pipeline makes use of the PAk density estimator and of the TWO-NN intristic dimension estimator.\n",
    "    The densities and the corresponding errors can also be provided as precomputed arrays.\n",
    "\n",
    "    Parameters\n",
    "    ----------\n",
    "\n",
    "    Z : float, default = 1\n",
    "        The number of standard deviations, which fixes the level of statistical confidence at which\n",
    "        one decides to consider a cluster meaningful.\n",
    "\n",
    "    metric : string, or callable\n",
    "        The distance metric to use.\n",
    "        If metric is a string, it must be one of the options allowed by\n",
    "        scipy.spatial.distance.pdist for its metric parameter, or a metric listed in\n",
    "        pairwise.PAIRWISE_DISTANCE_FUNCTIONS. If metric is \"precomputed\", X is assumed to\n",
    "        be a distance matrix. Alternatively, if metric is a callable function, it is\n",
    "        called on each pair of instances (rows) and the resulting value recorded. The\n",
    "        callable should take two arrays from X as input and return a value indicating\n",
    "        the distance between them. Default is 'euclidean'.\n",
    "        \n",
    "    densities : array [n_samples], default = None\n",
    "        The logarithm of the density at each point. If provided, the following parameters are ignored:\n",
    "        density_algo, k_max, D_thr.\n",
    "\n",
    "    err_densities : array [n_samples], default = None\n",
    "        The uncertainty in the density estimation, obtained by computing\n",
    "        the inverse of the Fisher information matrix.\n",
    "    \n",
    "    k_hat : array [n_samples], default = None\n",
    "        The optimal number of neighbors for which the condition of constant density holds.\n",
    "        \n",
    "    nn_distances  : array [n_samples, k_max+1]\n",
    "        Distances to the k_max neighbors of each points.\n",
    "\n",
    "    nn_indices : array [n_samples, k_max+1]\n",
    "        Indices of the k_max neighbors of each points.\n",
    "\n",
    "    affinity : string or callable, default 'precomputed'\n",
    "        How to construct the affinity matrix.\n",
    "         - ``nearest_neighbors`` : construct the affinity matrix by computing a\n",
    "           graph of nearest neighbors.\n",
    "         - ``rbf`` : construct the affinity matrix using a radial basis function\n",
    "           (RBF) kernel.\n",
    "         - ``precomputed`` : interpret ``X`` as a precomputed affinity matrix.\n",
    "         - ``precomputed_nearest_neighbors`` : interpret ``X`` as a sparse graph\n",
    "           of precomputed nearest neighbors, and constructs the affinity matrix\n",
    "           by selecting the ``n_neighbors`` nearest neighbors.\n",
    "         - one of the kernels supported by\n",
    "           :func:`~sklearn.metrics.pairwise_kernels`.\n",
    "\n",
    "\n",
    "    Parameters specific of the PAk estimator:\n",
    "    -----------------------------------------\n",
    "\n",
    "    density_algo : string, default = \"PAk\"\n",
    "        Define the algorithm to use as density estimator. It mast be one of the options allowed by\n",
    "        VALID_DENSITY.\n",
    "\n",
    "    k_max : int, default=1000\n",
    "        This parameter is considered if density_algo is \"PAk\" or \"kNN\", it is ignored otherwise.\n",
    "        k_max set the maximum number of nearest-neighbors considered by the density estimator.\n",
    "        If density_algo=\"PAk\", k_max is used by the algorithm in the search for the\n",
    "        largest number of neighbors ``\\hat{k}`` for which the condition of constant density\n",
    "        holds, within a given level of confidence.\n",
    "        If density_algo=\"kNN\", k_max set the number of neighbors to be used by the standard\n",
    "        k-Nearest Neighbor algorithm.\n",
    "        If the number of points in the sample N is\n",
    "        less than the default value, k_max will be set automatically to the value ``N/2``.\n",
    "        \n",
    "    D_thr : float, default=23.92812698\n",
    "        This parameter is considered if density_algo is \"PAk\", it is ignored otherwise.\n",
    "        Set the level of confidence in the PAk density estimator. The default value corresponds to a p-value of\n",
    "        ``10**{-6}`` for a ``\\chiˆ2`` distribution with one degree of freedom.\n",
    "\n",
    "    dim : int, default = None\n",
    "        Intrinsic dimensionality of the sample. If dim is provided, the following parameters are ignored:\n",
    "        dim_algo, blockAn, block_ratio, frac.\n",
    "\n",
    "    dim_algo : string, or callable, default=\"twoNN\"\n",
    "        Method for intrinsic dimensionality calculation. If dim_algo is \"auto\", dim is assumed to be\n",
    "        equal to n_samples. If dim_algo is a string, it must be one of the options allowed by VALID_DIM.\n",
    "\n",
    "    Parameters specific of the TWO-NN estimator:\n",
    "    --------------------------------------------\n",
    "\n",
    "    blockAn : bool, default=True\n",
    "        This parameter is considered if dim_algo is \"twoNN\", it is ignored otherwise.\n",
    "        If blockAn is True the algorithm perform a block analysis that allows discriminating the relevant \n",
    "        dimensions as a function of the block size. This allows to study the stability of the estimation \n",
    "        with respect to changes in the neighborhood size, which is crucial for ID estimations when the \n",
    "        data lie on a manifold perturbed by a high-dimensional noise.\n",
    "\n",
    "    block_ratio : int, default=20\n",
    "        This parameter is considered if dim_algo is \"twoNN\", it is ignored otherwise.\n",
    "        Set the minimum size of the blocks as n_samples/block_ratio. If blockAn=False, block_ratio is ignored.\n",
    "        \n",
    "    frac : float, default=1\n",
    "        This parameter is considered if dim_algo is \"twoNN\", it is ignored otherwise.\n",
    "        Define the fraction of points in the data set used for ID calculation. By default the full \n",
    "        data set is used.\n",
    "\n",
    "\n",
    "\n",
    "    Attributes\n",
    "    ----------\n",
    "    labels_ : array [Nclus]\n",
    "        The clustering labels assigned to each point in the data set.\n",
    "\n",
    "    halos_ : array [Nclus]\n",
    "        The clustering labels assigned to each point in the data set. Points identified as halos have\n",
    "        label equal to zero.\n",
    "\n",
    "    topography_ : array [Nclus, Nclus]\n",
    "        Let be Nclus the number of clusters, the topography consists in a Nclus × Nclus symmetric matrix,\n",
    "        in which the diagonal entries are the heights of the peaks and the off-diagonal entries are the\n",
    "        heights of the saddle points.\n",
    "\n",
    "    nn_distances_ : array [n_samples, k_max+1]\n",
    "        Distances to the k_max neighbors of each points. The point itself is included in the array.\n",
    "\n",
    "    nn_indices_ : array [n_samples, k_max+1]\n",
    "        Indices of the k_max neighbors of each points. The point itself is included in the array.\n",
    "\n",
    "    k_hat_ : array [n_samples], default = None\n",
    "        The optimal number of neighbors for which the condition of constant density holds.\n",
    "\n",
    "    centers_ :array [Nclus]\n",
    "        The clustering labels assigned to each point in the data set.\n",
    "        \n",
    "    dim_ : int,\n",
    "        Intrinsic dimensionality of the sample. If ``dim`` is not provided, ``dim_`` is set\n",
    "        to the number of features in the input file.\n",
    "\n",
    "    k_max_ : int\n",
    "        The maximum number of nearest-neighbors considered by the procedure that returns the\n",
    "        largest number of neighbors ``k_hat`` for which the condition of constant density\n",
    "        holds, within a given level of confidence. If the number of points in the sample `N` is\n",
    "        less than the default value, k_max_ will be set automatically to the value ``N/2``.\n",
    "\n",
    "    densities_ : array [n_samples]\n",
    "        If not provided by the parameter ``densities``, it is computed by using the `PAk` density estimator.\n",
    "\n",
    "    err_densities_ : array [n_samples]\n",
    "        The uncertainty in the density estimation. If not provided by the parameter ``densities``, it is\n",
    "        computed by using the `PAk` density estimator.\n"
   ]
  },
  {
   "cell_type": "code",
   "execution_count": 4,
   "metadata": {},
   "outputs": [],
   "source": [
    "est = DPA.DensityPeakAdvanced(Z=1.5)"
   ]
  },
  {
   "cell_type": "code",
   "execution_count": 5,
   "metadata": {},
   "outputs": [
    {
     "name": "stdout",
     "output_type": "stream",
     "text": [
      "20.974503993988037\n"
     ]
    }
   ],
   "source": [
    "start=time.time()\n",
    "est.fit(data_F1)\n",
    "end=time.time()\n",
    "print(end-start)"
   ]
  },
  {
   "cell_type": "code",
   "execution_count": 6,
   "metadata": {},
   "outputs": [
    {
     "data": {
      "text/plain": [
       "[[0, 1, 0.0, 0.0],\n",
       " [0, 2, 3.7425915295927936, 0.2416300750479995],\n",
       " [0, 3, 0.0, 0.0],\n",
       " [0, 4, 3.0234534207747705, 0.3265159805584621],\n",
       " [0, 5, 3.7894984573174493, 0.5244044240850758],\n",
       " [0, 6, 4.711739372647775, 0.3562217559245075],\n",
       " [0, 7, 2.5097413497241656, 0.2571042419361763],\n",
       " [1, 2, 6.1419650313900815, 0.20254004442059886],\n",
       " [1, 3, 5.816313822088171, 0.1167411763190562],\n",
       " [1, 4, 0.0, 0.0],\n",
       " [1, 5, 6.785973451460987, 0.2150307989896019],\n",
       " [1, 6, 0.0, 0.0],\n",
       " [1, 7, 0.0, 0.0],\n",
       " [2, 3, 2.337870780150784, 0.21885876647707203],\n",
       " [2, 4, 0.0, 0.0],\n",
       " [2, 5, 6.44569962645809, 0.23015938487714693],\n",
       " [2, 6, 0.0, 0.0],\n",
       " [2, 7, 0.0, 0.0],\n",
       " [3, 4, 0.0, 0.0],\n",
       " [3, 5, 4.5119017857460975, 0.3562217559245075],\n",
       " [3, 6, 0.0, 0.0],\n",
       " [3, 7, 4.794431638694994, 0.19112152293092616],\n",
       " [4, 5, 0.0, 0.0],\n",
       " [4, 6, 5.911678097133279, 0.23326897439311214],\n",
       " [4, 7, 1.9124476768172676, 0.3958473906635696],\n",
       " [5, 6, 0.0, 0.0],\n",
       " [5, 7, 2.9326511335688945, 0.4917622040778217],\n",
       " [6, 7, 6.63052911056072, 0.14414855029114562]]"
      ]
     },
     "execution_count": 6,
     "metadata": {},
     "output_type": "execute_result"
    }
   ],
   "source": [
    "est.topography_"
   ]
  },
  {
   "cell_type": "markdown",
   "metadata": {},
   "source": [
    "The topography can be visualized in the form of a dendrogram with the heights of the clusters proportional to the density of the centers."
   ]
  },
  {
   "cell_type": "code",
   "execution_count": 7,
   "metadata": {},
   "outputs": [
    {
     "data": {
      "image/png": "[encoded data removed]",
      "text/plain": [
       "<Figure size 432x288 with 1 Axes>"
      ]
     },
     "metadata": {
      "needs_background": "light"
     },
     "output_type": "display_data"
    }
   ],
   "source": [
    "est.get_histogram()"
   ]
  },
  {
   "cell_type": "markdown",
   "metadata": {},
   "source": [
    "Running again with a different Z without the need of recomputing the neighbors-densities"
   ]
  },
  {
   "cell_type": "code",
   "execution_count": 8,
   "metadata": {},
   "outputs": [
    {
     "name": "stdout",
     "output_type": "stream",
     "text": [
      "1.762514591217041\n"
     ]
    }
   ],
   "source": [
    "params = est.get_computed_params()\n",
    "est.set_params(**params)\n",
    "est.set_params(Z=1)\n",
    "start=time.time()\n",
    "est.fit(data_F1)\n",
    "end=time.time()\n",
    "print(end-start)"
   ]
  },
  {
   "cell_type": "markdown",
   "metadata": {},
   "source": [
    "The PAk and twoNN estimator can be used indipendently from the DPA clustering method."
   ]
  },
  {
   "cell_type": "code",
   "execution_count": 9,
   "metadata": {},
   "outputs": [],
   "source": [
    "from Pipeline import PAk\n",
    "from Pipeline import twoNN\n",
    "\n",
    "rho_est = PAk.PointAdaptive_kNN()\n",
    "d_est = twoNN.twoNearestNeighbors()\n"
   ]
  },
  {
   "cell_type": "code",
   "execution_count": 10,
   "metadata": {},
   "outputs": [
    {
     "name": "stdout",
     "output_type": "stream",
     "text": [
      "[9.285334535207799, 4.7897850475688095, 3.7807573464963666, 7.0284003030244255, 7.262019484062379, 9.739026577157622, 9.646677593518241, 7.471269391580993, 9.580323288393377, 7.74468781783699]\n",
      "2\n"
     ]
    }
   ],
   "source": [
    "results = rho_est.fit(data_F1)\n",
    "print(results.densities_[:10])\n",
    "\n",
    "dim = d_est.fit(data_F1).dim_\n",
    "print(dim)"
   ]
  },
  {
   "cell_type": "code",
   "execution_count": null,
   "metadata": {},
   "outputs": [],
   "source": []
  }
 ],
 "metadata": {
  "kernelspec": {
   "display_name": "Python 3",
   "language": "python",
   "name": "python3"
  },
  "language_info": {
   "codemirror_mode": {
    "name": "ipython",
    "version": 3
   },
   "file_extension": ".py",
   "mimetype": "text/x-python",
   "name": "python",
   "nbconvert_exporter": "python",
   "pygments_lexer": "ipython3",
   "version": "3.8.8"
  }
 },
 "nbformat": 4,
 "nbformat_minor": 2
}
